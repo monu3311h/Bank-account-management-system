{
 "cells": [
  {
   "cell_type": "code",
   "execution_count": 2,
   "id": "41182f0c-a8ca-4a3a-89fd-3414a75a1ac0",
   "metadata": {},
   "outputs": [],
   "source": [
    "# Bank Management System\n",
    "import pandas as pd"
   ]
  },
  {
   "cell_type": "code",
   "execution_count": 75,
   "id": "b4fb207e-38ae-40ea-88a0-ab5767f40a12",
   "metadata": {},
   "outputs": [],
   "source": [
    "class Account:\n",
    "    def __init__(self):\n",
    "        self.account_number = 702563801273\n",
    "        self.account_holder = 'Priya Singh Rajpoot'\n",
    "        self.balance = 10000\n",
    "        self.transaction_list = []\n",
    "\n",
    "        print('\\t\\t\\tWelcome ', self.account_holder, '\\n\\n')\n",
    "        print('Deposit money \\t Withdraw money \\t Check balance \\t transaction history')\n",
    "\n",
    "    def deposit(self):\n",
    "        amount = int(input('How much do you wanna deposit ?'))\n",
    "        if amount > 0:\n",
    "            self.balance += amount\n",
    "            print('The money is succesfully deposited. The Updated balance is', self.balance)\n",
    "            self.transaction_list.append(amount)\n",
    "        else:\n",
    "            print('The Deposit money must be positive')\n",
    "\n",
    "    def withdraw(self):\n",
    "        amount = int(input('How much money you want to withdraw'))\n",
    "        if 0<amount <= self.balance:\n",
    "            self.balance -= amount\n",
    "            print('Please collect your Amount of', amount)\n",
    "            self.transaction_list.append(-amount)\n",
    "        else:\n",
    "            print('Insufficient Funds')\n",
    "\n",
    "    def check_balance(self):\n",
    "        print('Your Current balance is', self.balance, 'Rupees')\n",
    "\n",
    "    def transaction_history(self):\n",
    "        for transaction in self.transaction_list:\n",
    "            if transaction > 0:\n",
    "                print(transaction, 'is deposited')\n",
    "            else:\n",
    "                print(abs(transaction), 'is withdrawn')\n",
    "        \n",
    "        "
   ]
  },
  {
   "cell_type": "code",
   "execution_count": 77,
   "id": "ce09bb33-f6c9-4617-b676-218b6486ae49",
   "metadata": {},
   "outputs": [
    {
     "name": "stdout",
     "output_type": "stream",
     "text": [
      "\t\t\tWelcome  Priya Singh Rajpoot \n",
      "\n",
      "\n",
      "Deposit money \t Withdraw money \t Check balance \t transaction history\n"
     ]
    }
   ],
   "source": [
    "acc1 = Account()"
   ]
  },
  {
   "cell_type": "code",
   "execution_count": 65,
   "id": "dbde8f49-e6e7-4d50-90c4-f2f19ec9759e",
   "metadata": {},
   "outputs": [
    {
     "name": "stdin",
     "output_type": "stream",
     "text": [
      "How much do you wanna deposit ? 5000\n"
     ]
    },
    {
     "name": "stdout",
     "output_type": "stream",
     "text": [
      "The money is succesfully deposited. The Updated balance is 15000\n"
     ]
    }
   ],
   "source": [
    "acc1.deposit()"
   ]
  },
  {
   "cell_type": "code",
   "execution_count": 69,
   "id": "e809d35e-8e76-41bd-9158-27d7fcf214da",
   "metadata": {},
   "outputs": [
    {
     "name": "stdin",
     "output_type": "stream",
     "text": [
      "How much money you want to withdraw 3000\n"
     ]
    },
    {
     "name": "stdout",
     "output_type": "stream",
     "text": [
      "Please collect your Amount of 3000\n"
     ]
    }
   ],
   "source": [
    "acc1.withdraw()"
   ]
  },
  {
   "cell_type": "code",
   "execution_count": 71,
   "id": "c8b063f3-9084-4def-811f-4cc27a79f748",
   "metadata": {},
   "outputs": [
    {
     "name": "stdout",
     "output_type": "stream",
     "text": [
      "Your Current balance is 12000 Rupees\n"
     ]
    }
   ],
   "source": [
    "acc1.check_balance()"
   ]
  },
  {
   "cell_type": "code",
   "execution_count": 73,
   "id": "90705e0a-4d2d-428d-829b-489259d39612",
   "metadata": {},
   "outputs": [
    {
     "name": "stdout",
     "output_type": "stream",
     "text": [
      "5000 is deposited\n",
      "3000 is withdrawn\n"
     ]
    }
   ],
   "source": [
    "acc1.transaction_history()"
   ]
  }
 ],
 "metadata": {
  "kernelspec": {
   "display_name": "Python 3 (ipykernel)",
   "language": "python",
   "name": "python3"
  },
  "language_info": {
   "codemirror_mode": {
    "name": "ipython",
    "version": 3
   },
   "file_extension": ".py",
   "mimetype": "text/x-python",
   "name": "python",
   "nbconvert_exporter": "python",
   "pygments_lexer": "ipython3",
   "version": "3.12.4"
  }
 },
 "nbformat": 4,
 "nbformat_minor": 5
}
